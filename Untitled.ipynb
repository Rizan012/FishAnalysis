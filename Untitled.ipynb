{
 "cells": [
  {
   "cell_type": "code",
   "execution_count": 34,
   "id": "a681ca1c-fa11-45d1-a124-8edf2df00c30",
   "metadata": {},
   "outputs": [],
   "source": [
    "import pandas as pd\n",
    "import numpy as np\n",
    "import seaborn as sns\n",
    "import matplotlib.pyplot as plt"
   ]
  },
  {
   "cell_type": "code",
   "execution_count": 35,
   "id": "539650c0-4904-4afd-a9b7-24eb2cfd21d2",
   "metadata": {},
   "outputs": [],
   "source": [
    "data = pd.read_csv(r\"Data-set\\fish_data.csv\")"
   ]
  },
  {
   "cell_type": "code",
   "execution_count": 36,
   "id": "03b5d82d-f794-4c16-8844-98ff6b3fae66",
   "metadata": {},
   "outputs": [
    {
     "data": {
      "text/html": [
       "<div>\n",
       "<style scoped>\n",
       "    .dataframe tbody tr th:only-of-type {\n",
       "        vertical-align: middle;\n",
       "    }\n",
       "\n",
       "    .dataframe tbody tr th {\n",
       "        vertical-align: top;\n",
       "    }\n",
       "\n",
       "    .dataframe thead th {\n",
       "        text-align: right;\n",
       "    }\n",
       "</style>\n",
       "<table border=\"1\" class=\"dataframe\">\n",
       "  <thead>\n",
       "    <tr style=\"text-align: right;\">\n",
       "      <th></th>\n",
       "      <th>species</th>\n",
       "      <th>length</th>\n",
       "      <th>weight</th>\n",
       "      <th>w_l_ratio</th>\n",
       "    </tr>\n",
       "  </thead>\n",
       "  <tbody>\n",
       "    <tr>\n",
       "      <th>0</th>\n",
       "      <td>Anabas testudineus</td>\n",
       "      <td>10.66</td>\n",
       "      <td>3.45</td>\n",
       "      <td>0.32</td>\n",
       "    </tr>\n",
       "    <tr>\n",
       "      <th>1</th>\n",
       "      <td>Anabas testudineus</td>\n",
       "      <td>6.91</td>\n",
       "      <td>3.27</td>\n",
       "      <td>0.47</td>\n",
       "    </tr>\n",
       "    <tr>\n",
       "      <th>2</th>\n",
       "      <td>Anabas testudineus</td>\n",
       "      <td>8.38</td>\n",
       "      <td>3.46</td>\n",
       "      <td>0.41</td>\n",
       "    </tr>\n",
       "    <tr>\n",
       "      <th>3</th>\n",
       "      <td>Anabas testudineus</td>\n",
       "      <td>7.57</td>\n",
       "      <td>3.36</td>\n",
       "      <td>0.44</td>\n",
       "    </tr>\n",
       "    <tr>\n",
       "      <th>4</th>\n",
       "      <td>Anabas testudineus</td>\n",
       "      <td>10.83</td>\n",
       "      <td>3.38</td>\n",
       "      <td>0.31</td>\n",
       "    </tr>\n",
       "  </tbody>\n",
       "</table>\n",
       "</div>"
      ],
      "text/plain": [
       "              species  length  weight  w_l_ratio\n",
       "0  Anabas testudineus   10.66    3.45       0.32\n",
       "1  Anabas testudineus    6.91    3.27       0.47\n",
       "2  Anabas testudineus    8.38    3.46       0.41\n",
       "3  Anabas testudineus    7.57    3.36       0.44\n",
       "4  Anabas testudineus   10.83    3.38       0.31"
      ]
     },
     "execution_count": 36,
     "metadata": {},
     "output_type": "execute_result"
    }
   ],
   "source": [
    "data.head()"
   ]
  },
  {
   "cell_type": "code",
   "execution_count": 37,
   "id": "e33fbd5d-053e-4744-a5e0-ac5476990d16",
   "metadata": {},
   "outputs": [
    {
     "data": {
      "text/html": [
       "<div>\n",
       "<style scoped>\n",
       "    .dataframe tbody tr th:only-of-type {\n",
       "        vertical-align: middle;\n",
       "    }\n",
       "\n",
       "    .dataframe tbody tr th {\n",
       "        vertical-align: top;\n",
       "    }\n",
       "\n",
       "    .dataframe thead th {\n",
       "        text-align: right;\n",
       "    }\n",
       "</style>\n",
       "<table border=\"1\" class=\"dataframe\">\n",
       "  <thead>\n",
       "    <tr style=\"text-align: right;\">\n",
       "      <th></th>\n",
       "      <th>length</th>\n",
       "      <th>weight</th>\n",
       "      <th>w_l_ratio</th>\n",
       "    </tr>\n",
       "  </thead>\n",
       "  <tbody>\n",
       "    <tr>\n",
       "      <th>count</th>\n",
       "      <td>4080.000000</td>\n",
       "      <td>4080.000000</td>\n",
       "      <td>4080.000000</td>\n",
       "    </tr>\n",
       "    <tr>\n",
       "      <th>mean</th>\n",
       "      <td>17.353544</td>\n",
       "      <td>3.739875</td>\n",
       "      <td>0.252782</td>\n",
       "    </tr>\n",
       "    <tr>\n",
       "      <th>std</th>\n",
       "      <td>7.114684</td>\n",
       "      <td>1.040365</td>\n",
       "      <td>0.123046</td>\n",
       "    </tr>\n",
       "    <tr>\n",
       "      <th>min</th>\n",
       "      <td>6.360000</td>\n",
       "      <td>2.050000</td>\n",
       "      <td>0.080000</td>\n",
       "    </tr>\n",
       "    <tr>\n",
       "      <th>25%</th>\n",
       "      <td>11.327500</td>\n",
       "      <td>3.070000</td>\n",
       "      <td>0.170000</td>\n",
       "    </tr>\n",
       "    <tr>\n",
       "      <th>50%</th>\n",
       "      <td>17.350000</td>\n",
       "      <td>3.310000</td>\n",
       "      <td>0.190000</td>\n",
       "    </tr>\n",
       "    <tr>\n",
       "      <th>75%</th>\n",
       "      <td>22.585000</td>\n",
       "      <td>4.100000</td>\n",
       "      <td>0.340000</td>\n",
       "    </tr>\n",
       "    <tr>\n",
       "      <th>max</th>\n",
       "      <td>33.860000</td>\n",
       "      <td>6.290000</td>\n",
       "      <td>0.640000</td>\n",
       "    </tr>\n",
       "  </tbody>\n",
       "</table>\n",
       "</div>"
      ],
      "text/plain": [
       "            length       weight    w_l_ratio\n",
       "count  4080.000000  4080.000000  4080.000000\n",
       "mean     17.353544     3.739875     0.252782\n",
       "std       7.114684     1.040365     0.123046\n",
       "min       6.360000     2.050000     0.080000\n",
       "25%      11.327500     3.070000     0.170000\n",
       "50%      17.350000     3.310000     0.190000\n",
       "75%      22.585000     4.100000     0.340000\n",
       "max      33.860000     6.290000     0.640000"
      ]
     },
     "execution_count": 37,
     "metadata": {},
     "output_type": "execute_result"
    }
   ],
   "source": [
    "data.describe()"
   ]
  },
  {
   "cell_type": "code",
   "execution_count": 38,
   "id": "ddb53cb1-15f5-43e5-ad09-a6b2a382d384",
   "metadata": {},
   "outputs": [
    {
     "data": {
      "text/plain": [
       "(4080, 4)"
      ]
     },
     "execution_count": 38,
     "metadata": {},
     "output_type": "execute_result"
    }
   ],
   "source": [
    "data.shape"
   ]
  },
  {
   "cell_type": "code",
   "execution_count": 39,
   "id": "0893c02b-6989-4ba7-8281-53407b54843a",
   "metadata": {},
   "outputs": [
    {
     "data": {
      "text/plain": [
       "species      0\n",
       "length       0\n",
       "weight       0\n",
       "w_l_ratio    0\n",
       "dtype: int64"
      ]
     },
     "execution_count": 39,
     "metadata": {},
     "output_type": "execute_result"
    }
   ],
   "source": [
    "data.isna().sum()"
   ]
  },
  {
   "cell_type": "code",
   "execution_count": 40,
   "id": "6e7c04ad-b873-4bca-bf16-6f05d390b7ff",
   "metadata": {},
   "outputs": [
    {
     "data": {
      "text/plain": [
       "109"
      ]
     },
     "execution_count": 40,
     "metadata": {},
     "output_type": "execute_result"
    }
   ],
   "source": [
    "data.duplicated().sum()"
   ]
  },
  {
   "cell_type": "code",
   "execution_count": 41,
   "id": "0d26a07e-c7bd-416e-8330-110548ff40b0",
   "metadata": {},
   "outputs": [],
   "source": [
    "data.drop_duplicates(inplace=True)"
   ]
  },
  {
   "cell_type": "code",
   "execution_count": 42,
   "id": "5e62eb1f-aab9-4de0-b313-c792930bd57a",
   "metadata": {},
   "outputs": [
    {
     "data": {
      "text/plain": [
       "(3971, 4)"
      ]
     },
     "execution_count": 42,
     "metadata": {},
     "output_type": "execute_result"
    }
   ],
   "source": [
    "data.shape"
   ]
  },
  {
   "cell_type": "code",
   "execution_count": 54,
   "id": "71343bd8-b59c-4678-84ad-e7f663c2b04c",
   "metadata": {},
   "outputs": [
    {
     "data": {
      "text/plain": [
       "<Axes: ylabel='w_l_ratio'>"
      ]
     },
     "execution_count": 54,
     "metadata": {},
     "output_type": "execute_result"
    },
    {
     "data": {
      "image/png": "[encoded data removed]",
      "text/plain": [
       "<Figure size 640x480 with 1 Axes>"
      ]
     },
     "metadata": {},
     "output_type": "display_data"
    }
   ],
   "source": [
    "sns.scatterplot(y = \"w_l_ratio\" , data=data)"
   ]
  },
  {
   "cell_type": "markdown",
   "id": "b513cb1f-213d-4a85-a8ba-d3190f164815",
   "metadata": {},
   "source": [
    "-------------------------------------------------------------------------------"
   ]
  },
  {
   "cell_type": "code",
   "execution_count": 43,
   "id": "14b13ced-4fed-4b10-9006-c57ef85def5f",
   "metadata": {},
   "outputs": [],
   "source": [
    "X=data.drop(\"species\",axis=1)"
   ]
  },
  {
   "cell_type": "code",
   "execution_count": 44,
   "id": "c548deae-cfa2-4aeb-8573-0e84189ed81f",
   "metadata": {},
   "outputs": [],
   "source": [
    "y=data[\"species\"]"
   ]
  },
  {
   "cell_type": "code",
   "execution_count": 45,
   "id": "451939ea-0d3b-4605-8493-929907bb5f9d",
   "metadata": {},
   "outputs": [],
   "source": [
    "from sklearn.preprocessing import StandardScaler"
   ]
  },
  {
   "cell_type": "code",
   "execution_count": 46,
   "id": "a104d406-f412-4511-8ab4-93ef04231358",
   "metadata": {},
   "outputs": [],
   "source": [
    "scaler = StandardScaler()"
   ]
  },
  {
   "cell_type": "code",
   "execution_count": 47,
   "id": "9e3d7cbd-386c-456f-986b-fa205d176f2f",
   "metadata": {},
   "outputs": [],
   "source": [
    "X_scaled = scaler.fit_transform(X)"
   ]
  },
  {
   "cell_type": "code",
   "execution_count": 48,
   "id": "43490347-a721-4a1f-b50c-226240a349d7",
   "metadata": {},
   "outputs": [
    {
     "data": {
      "text/plain": [
       "array([[-0.9450263 , -0.27071396,  0.55365699],\n",
       "       [-1.47577487, -0.44540108,  1.77694342],\n",
       "       [-1.26772143, -0.26100912,  1.28762885],\n",
       "       ...,\n",
       "       [ 1.74409974,  2.3107735 , -0.34341972],\n",
       "       [ 2.18992853,  2.44664126, -0.50652458],\n",
       "       [ 2.02150432,  2.33988802, -0.50652458]])"
      ]
     },
     "execution_count": 48,
     "metadata": {},
     "output_type": "execute_result"
    }
   ],
   "source": [
    "X_scaled"
   ]
  },
  {
   "cell_type": "code",
   "execution_count": 49,
   "id": "7b50315a-18b1-48a3-938b-cc3681e65f95",
   "metadata": {},
   "outputs": [],
   "source": [
    "df = pd.DataFrame(X_scaled)"
   ]
  },
  {
   "cell_type": "code",
   "execution_count": 50,
   "id": "18565eb2-967e-4fbd-9ca1-274b6522745a",
   "metadata": {},
   "outputs": [
    {
     "data": {
      "text/html": [
       "<div>\n",
       "<style scoped>\n",
       "    .dataframe tbody tr th:only-of-type {\n",
       "        vertical-align: middle;\n",
       "    }\n",
       "\n",
       "    .dataframe tbody tr th {\n",
       "        vertical-align: top;\n",
       "    }\n",
       "\n",
       "    .dataframe thead th {\n",
       "        text-align: right;\n",
       "    }\n",
       "</style>\n",
       "<table border=\"1\" class=\"dataframe\">\n",
       "  <thead>\n",
       "    <tr style=\"text-align: right;\">\n",
       "      <th></th>\n",
       "      <th>0</th>\n",
       "      <th>1</th>\n",
       "      <th>2</th>\n",
       "    </tr>\n",
       "  </thead>\n",
       "  <tbody>\n",
       "    <tr>\n",
       "      <th>0</th>\n",
       "      <td>-0.945026</td>\n",
       "      <td>-0.270714</td>\n",
       "      <td>0.553657</td>\n",
       "    </tr>\n",
       "    <tr>\n",
       "      <th>1</th>\n",
       "      <td>-1.475775</td>\n",
       "      <td>-0.445401</td>\n",
       "      <td>1.776943</td>\n",
       "    </tr>\n",
       "    <tr>\n",
       "      <th>2</th>\n",
       "      <td>-1.267721</td>\n",
       "      <td>-0.261009</td>\n",
       "      <td>1.287629</td>\n",
       "    </tr>\n",
       "    <tr>\n",
       "      <th>3</th>\n",
       "      <td>-1.382363</td>\n",
       "      <td>-0.358058</td>\n",
       "      <td>1.532286</td>\n",
       "    </tr>\n",
       "    <tr>\n",
       "      <th>4</th>\n",
       "      <td>-0.920966</td>\n",
       "      <td>-0.338648</td>\n",
       "      <td>0.472105</td>\n",
       "    </tr>\n",
       "    <tr>\n",
       "      <th>...</th>\n",
       "      <td>...</td>\n",
       "      <td>...</td>\n",
       "      <td>...</td>\n",
       "    </tr>\n",
       "    <tr>\n",
       "      <th>3966</th>\n",
       "      <td>1.878556</td>\n",
       "      <td>2.281659</td>\n",
       "      <td>-0.424972</td>\n",
       "    </tr>\n",
       "    <tr>\n",
       "      <th>3967</th>\n",
       "      <td>1.871479</td>\n",
       "      <td>2.320478</td>\n",
       "      <td>-0.424972</td>\n",
       "    </tr>\n",
       "    <tr>\n",
       "      <th>3968</th>\n",
       "      <td>1.744100</td>\n",
       "      <td>2.310774</td>\n",
       "      <td>-0.343420</td>\n",
       "    </tr>\n",
       "    <tr>\n",
       "      <th>3969</th>\n",
       "      <td>2.189929</td>\n",
       "      <td>2.446641</td>\n",
       "      <td>-0.506525</td>\n",
       "    </tr>\n",
       "    <tr>\n",
       "      <th>3970</th>\n",
       "      <td>2.021504</td>\n",
       "      <td>2.339888</td>\n",
       "      <td>-0.506525</td>\n",
       "    </tr>\n",
       "  </tbody>\n",
       "</table>\n",
       "<p>3971 rows × 3 columns</p>\n",
       "</div>"
      ],
      "text/plain": [
       "             0         1         2\n",
       "0    -0.945026 -0.270714  0.553657\n",
       "1    -1.475775 -0.445401  1.776943\n",
       "2    -1.267721 -0.261009  1.287629\n",
       "3    -1.382363 -0.358058  1.532286\n",
       "4    -0.920966 -0.338648  0.472105\n",
       "...        ...       ...       ...\n",
       "3966  1.878556  2.281659 -0.424972\n",
       "3967  1.871479  2.320478 -0.424972\n",
       "3968  1.744100  2.310774 -0.343420\n",
       "3969  2.189929  2.446641 -0.506525\n",
       "3970  2.021504  2.339888 -0.506525\n",
       "\n",
       "[3971 rows x 3 columns]"
      ]
     },
     "execution_count": 50,
     "metadata": {},
     "output_type": "execute_result"
    }
   ],
   "source": [
    "df"
   ]
  },
  {
   "cell_type": "code",
   "execution_count": 51,
   "id": "76151dcb-8747-46a4-855f-f606b96568d2",
   "metadata": {},
   "outputs": [],
   "source": [
    "df.rename(columns = {0:\"length\",1:\"weight\",2:\"w_l_ratio\"},inplace=True)"
   ]
  },
  {
   "cell_type": "code",
   "execution_count": 52,
   "id": "5db5c7d3-64e6-4597-b650-d70534f2e607",
   "metadata": {},
   "outputs": [
    {
     "data": {
      "text/html": [
       "<div>\n",
       "<style scoped>\n",
       "    .dataframe tbody tr th:only-of-type {\n",
       "        vertical-align: middle;\n",
       "    }\n",
       "\n",
       "    .dataframe tbody tr th {\n",
       "        vertical-align: top;\n",
       "    }\n",
       "\n",
       "    .dataframe thead th {\n",
       "        text-align: right;\n",
       "    }\n",
       "</style>\n",
       "<table border=\"1\" class=\"dataframe\">\n",
       "  <thead>\n",
       "    <tr style=\"text-align: right;\">\n",
       "      <th></th>\n",
       "      <th>length</th>\n",
       "      <th>weight</th>\n",
       "      <th>w_l_ratio</th>\n",
       "    </tr>\n",
       "  </thead>\n",
       "  <tbody>\n",
       "    <tr>\n",
       "      <th>0</th>\n",
       "      <td>-0.945026</td>\n",
       "      <td>-0.270714</td>\n",
       "      <td>0.553657</td>\n",
       "    </tr>\n",
       "    <tr>\n",
       "      <th>1</th>\n",
       "      <td>-1.475775</td>\n",
       "      <td>-0.445401</td>\n",
       "      <td>1.776943</td>\n",
       "    </tr>\n",
       "    <tr>\n",
       "      <th>2</th>\n",
       "      <td>-1.267721</td>\n",
       "      <td>-0.261009</td>\n",
       "      <td>1.287629</td>\n",
       "    </tr>\n",
       "    <tr>\n",
       "      <th>3</th>\n",
       "      <td>-1.382363</td>\n",
       "      <td>-0.358058</td>\n",
       "      <td>1.532286</td>\n",
       "    </tr>\n",
       "    <tr>\n",
       "      <th>4</th>\n",
       "      <td>-0.920966</td>\n",
       "      <td>-0.338648</td>\n",
       "      <td>0.472105</td>\n",
       "    </tr>\n",
       "  </tbody>\n",
       "</table>\n",
       "</div>"
      ],
      "text/plain": [
       "     length    weight  w_l_ratio\n",
       "0 -0.945026 -0.270714   0.553657\n",
       "1 -1.475775 -0.445401   1.776943\n",
       "2 -1.267721 -0.261009   1.287629\n",
       "3 -1.382363 -0.358058   1.532286\n",
       "4 -0.920966 -0.338648   0.472105"
      ]
     },
     "execution_count": 52,
     "metadata": {},
     "output_type": "execute_result"
    }
   ],
   "source": [
    "df.head()"
   ]
  },
  {
   "cell_type": "code",
   "execution_count": 53,
   "id": "33ccad61-f695-483d-8179-dfd6a60b0f17",
   "metadata": {},
   "outputs": [
    {
     "data": {
      "text/plain": [
       "<Axes: ylabel='w_l_ratio'>"
      ]
     },
     "execution_count": 53,
     "metadata": {},
     "output_type": "execute_result"
    },
    {
     "data": {
      "image/png": "[encoded data removed]",
      "text/plain": [
       "<Figure size 640x480 with 1 Axes>"
      ]
     },
     "metadata": {},
     "output_type": "display_data"
    }
   ],
   "source": [
    "sns.scatterplot(y = \"w_l_ratio\" , data=df)"
   ]
  },
  {
   "cell_type": "code",
   "execution_count": null,
   "id": "d72054e7-7067-4a2c-8354-62c943d33a93",
   "metadata": {},
   "outputs": [],
   "source": []
  }
 ],
 "metadata": {
  "kernelspec": {
   "display_name": "Python (venv)",
   "language": "python",
   "name": "venv"
  },
  "language_info": {
   "codemirror_mode": {
    "name": "ipython",
    "version": 3
   },
   "file_extension": ".py",
   "mimetype": "text/x-python",
   "name": "python",
   "nbconvert_exporter": "python",
   "pygments_lexer": "ipython3",
   "version": "3.11.9"
  }
 },
 "nbformat": 4,
 "nbformat_minor": 5
}
